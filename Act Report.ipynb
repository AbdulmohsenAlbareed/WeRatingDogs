{
 "cells": [
  {
   "cell_type": "markdown",
   "id": "5621f6fd",
   "metadata": {},
   "source": [
    "# Act Report "
   ]
  },
  {
   "cell_type": "markdown",
   "id": "a9b6f51f",
   "metadata": {},
   "source": [
    "<hr style=\"border: 0.5px solid black\">\n"
   ]
  },
  {
   "cell_type": "markdown",
   "id": "73de5609",
   "metadata": {},
   "source": [
    "### First Insight"
   ]
  },
  {
   "cell_type": "markdown",
   "id": "69738104",
   "metadata": {},
   "source": [
    "After cleaning the data,We found the most common dog stage in tweets is the pupper stage. "
   ]
  },
  {
   "cell_type": "markdown",
   "id": "f52cbb2b",
   "metadata": {},
   "source": [
    "![Alt text](dog_stages.png)"
   ]
  },
  {
   "cell_type": "markdown",
   "id": "bc1a2efc",
   "metadata": {},
   "source": [
    "### Second Insight"
   ]
  },
  {
   "cell_type": "markdown",
   "id": "08260ca4",
   "metadata": {},
   "source": [
    "The majority of these tweets came from the Twetter app for the iPhone. "
   ]
  },
  {
   "cell_type": "markdown",
   "id": "c772e191",
   "metadata": {},
   "source": [
    " ![Alt text](tweets_source.png)"
   ]
  },
  {
   "cell_type": "markdown",
   "id": "d7495a31",
   "metadata": {},
   "source": [
    "### Third Insight"
   ]
  },
  {
   "cell_type": "markdown",
   "id": "194e6d1d",
   "metadata": {},
   "source": [
    "The standard poodle breed has the highest retweets with 47k."
   ]
  },
  {
   "cell_type": "markdown",
   "id": "ded2d594",
   "metadata": {},
   "source": [
    " ![Alt text](retweets.png)"
   ]
  },
  {
   "cell_type": "markdown",
   "id": "c5ec8216",
   "metadata": {},
   "source": [
    "### Fourth Insight"
   ]
  },
  {
   "cell_type": "markdown",
   "id": "aa52d956",
   "metadata": {},
   "source": [
    "The flat-coated retriever breed has the highest favorite with 46k."
   ]
  },
  {
   "cell_type": "markdown",
   "id": "d75e9f4d",
   "metadata": {},
   "source": [
    " ![Alt text](fav.png)"
   ]
  }
 ],
 "metadata": {
  "kernelspec": {
   "display_name": "Python 3 (ipykernel)",
   "language": "python",
   "name": "python3"
  },
  "language_info": {
   "codemirror_mode": {
    "name": "ipython",
    "version": 3
   },
   "file_extension": ".py",
   "mimetype": "text/x-python",
   "name": "python",
   "nbconvert_exporter": "python",
   "pygments_lexer": "ipython3",
   "version": "3.10.9"
  }
 },
 "nbformat": 4,
 "nbformat_minor": 5
}
